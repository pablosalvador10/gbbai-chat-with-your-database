{
 "cells": [
  {
   "cell_type": "markdown",
   "metadata": {},
   "source": [
    "## 📚 Prerequisites\n",
    "\n",
    "Before running this notebook, ensure you have configured Azure AI services, set the appropriate configuration parameters, and set up a Conda environment to ensure reproducibility. You can find the setup instructions and how to create a Conda environment in the [REQUIREMENTS.md](REQUIREMENTS.md) file.\n"
   ]
  },
  {
   "cell_type": "code",
   "execution_count": 1,
   "metadata": {},
   "outputs": [
    {
     "name": "stdout",
     "output_type": "stream",
     "text": [
      "Directory changed to C:\\Users\\pablosal\\Desktop\\gbbai-chat-with-your-database\n"
     ]
    }
   ],
   "source": [
    "import os\n",
    "\n",
    "# Define the target directory (change yours)\n",
    "target_directory = r\"C:\\Users\\pablosal\\Desktop\\gbbai-chat-with-your-database\"\n",
    "\n",
    "# Check if the directory exists\n",
    "if os.path.exists(target_directory):\n",
    "    # Change the current working directory\n",
    "    os.chdir(target_directory)\n",
    "    print(f\"Directory changed to {os.getcwd()}\")\n",
    "else:\n",
    "    print(f\"Directory {target_directory} does not exist.\")"
   ]
  },
  {
   "cell_type": "code",
   "execution_count": 2,
   "metadata": {},
   "outputs": [],
   "source": [
    "from src.database.azuresql import AzureSQLManager\n",
    "\n",
    "DATABASE = \"dev-sql-server\"\n",
    "az_sql_client = AzureSQLManager(DATABASE)"
   ]
  },
  {
   "cell_type": "code",
   "execution_count": 3,
   "metadata": {},
   "outputs": [],
   "source": [
    "from src.aoai.azure_openai import AzureOpenAIManager\n",
    "\n",
    "az_client = AzureOpenAIManager()"
   ]
  },
  {
   "cell_type": "markdown",
   "metadata": {},
   "source": [
    "## Knowledge Engineering\n",
    "\n",
    "In this section, we will discuss the process of knowledge engineering in the context of our project. This involves extracting tables from databases, converting them into natural language, and vectorizing the content. The vectorization process enhances the relevance of our search system by enabling semantic search capabilities. This way, we can create rules and knowledge bases for our artificial intelligence systems to provide more accurate and contextually relevant search results."
   ]
  },
  {
   "cell_type": "code",
   "execution_count": 4,
   "metadata": {},
   "outputs": [],
   "source": [
    "tables_names = az_sql_client.get_table_names()\n",
    "schema = az_sql_client.process_schema(tables_names[0])"
   ]
  },
  {
   "cell_type": "code",
   "execution_count": 5,
   "metadata": {},
   "outputs": [],
   "source": [
    "system_message = \"\"\"You are an AI assistant that helps people find information.  Act as a Senior Database Engineer, capable of understanding complex \n",
    "relationships between fields and tables. Your task involves interpreting and analyzing \n",
    "the schema of SQL database tables provided in JSON format. You examine the structure,\n",
    "understand the purpose of each field, and identify the interconnections between fields. \n",
    "Your objective is to produce a comprehensive summary that elucidates the table's design\n",
    "and its potential applications. This summary should highlight the table's intended use, \n",
    "emphasizing the key data it contains. Your expertise is essential for demystifying the \n",
    "navigation and optimization of complex database systems, facilitating users to comprehend\n",
    "the significance and operational context of their data assets efficiently. Take your time.\"\"\""
   ]
  },
  {
   "cell_type": "code",
   "execution_count": 6,
   "metadata": {},
   "outputs": [],
   "source": [
    "query = f\"\"\"\n",
    "Please examine the schema of the table thoroughly. Provide an in-depth analysis that not only explains the design and structure of the table but also outlines its potential applications and the types of queries it can support.\n",
    "Also provide atleast 10 queries in natural lengauge that can be run on the table.\n",
    "Please take your time.\n",
    "\n",
    "Here is the schema of the table: {schema}\n",
    "\"\"\""
   ]
  },
  {
   "cell_type": "code",
   "execution_count": 7,
   "metadata": {},
   "outputs": [
    {
     "name": "stderr",
     "output_type": "stream",
     "text": [
      "2024-02-07 01:17:55,106 - micro - MainProcess - INFO     Sending request to OpenAI with query: \n",
      "Please examine the schema of the table thoroughly. Provide an in-depth analysis that not only explains the design and structure of the table but also outlines its potential applications and the types of queries it can support.\n",
      "Also provide atleast 10 queries in natural lengauge that can be run on the table.\n",
      "Please take your time.\n",
      "\n",
      "Here is the schema of the table: {'detroit_tigers_baseball_stats': [{'column_number': 0, 'column_name': 'name', 'data_type': 'nvarchar'}, {'column_number': 1, 'column_name': 'position', 'data_type': 'nvarchar'}, {'column_number': 2, 'column_name': 'Games_Played', 'data_type': 'tinyint'}, {'column_number': 3, 'column_name': 'At_Bats', 'data_type': 'smallint'}, {'column_number': 4, 'column_name': 'Hits', 'data_type': 'tinyint'}, {'column_number': 5, 'column_name': 'Home_Runs', 'data_type': 'tinyint'}, {'column_number': 6, 'column_name': 'RBIs', 'data_type': 'tinyint'}, {'column_number': 7, 'column_name': 'Batting_Average', 'data_type': 'float'}]}\n",
      " (azure_openai.py:generate_chat_response:186)\n",
      "2024-02-07 01:18:41,973 - micro - MainProcess - INFO     Received response from OpenAI: The provided schema is for a database table named 'detroit_tigers_baseball_stats'. This table seems to be designed to store statistics for players of the Detroit Tigers Baseball team. The table has eight columns, each with a distinct purpose.\n",
      "\n",
      "1. 'name' - This is a NVARCHAR type column, used to store the names of the players. It's a string type field that can handle Unicode characters, which is useful for names that may contain special characters or non-English letters.\n",
      "\n",
      "2. 'position' - This is also a NVARCHAR type column, likely used to store the position that each player plays on the team (like pitcher, catcher, infielder, outfielder, etc.).\n",
      "\n",
      "3. 'Games_Played' - This is a TINYINT type column, used to store the number of games each player has played. TINYINT is an integer type that can store values from 0 to 255, which should be sufficient for tracking games played in a single season.\n",
      "\n",
      "4. 'At_Bats' - This is a SMALLINT type column, used to store the number of times each player has been at bat. SMALLINT can store values from -32768 to 32767, which should be more than enough for this field.\n",
      "\n",
      "5. 'Hits' - Another TINYINT type column, used to log the number of hits each player has made.\n",
      "\n",
      "6. 'Home_Runs' - This TINYINT type column is used to record the number of home runs each player has scored.\n",
      "\n",
      "7. 'RBIs' - This TINYINT column is used to store the number of Runs Batted In (RBIs) each player has achieved.\n",
      "\n",
      "8. 'Batting_Average' - This is a FLOAT type column, used to store the batting average of each player. FLOAT is a floating-point number that can store very large or small numbers with decimal precision, which makes it suitable for storing averages.\n",
      "\n",
      "Potential queries this table could support include:\n",
      "\n",
      "1. Who is the player with the highest batting average?\n",
      "2. Who is the player with the most home runs?\n",
      "3. Who is the player with the most hits?\n",
      "4. Who is the player with the most RBIs?\n",
      "5. How many games has each player played?\n",
      "6. What is the average number of games played by all players?\n",
      "7. What is the total number of hits by all players?\n",
      "8. What is the total number of home runs by all players?\n",
      "9. What is the total number of RBIs by all players?\n",
      "10. What is the position of the player with the highest batting average?\n",
      "\n",
      "The design of this table makes it well-suited for tracking individual player performance over a season, and can be used to generate insightful statistics and analyses about the team's offense. (azure_openai.py:generate_chat_response:199)\n"
     ]
    }
   ],
   "source": [
    "content = az_client.generate_chat_response(\n",
    "    conversation_history=[],\n",
    "    query=query,\n",
    "    system_message_content=system_message,\n",
    "    max_tokens=1000,\n",
    ")"
   ]
  },
  {
   "cell_type": "code",
   "execution_count": 8,
   "metadata": {},
   "outputs": [],
   "source": [
    "embedding = az_client.generate_embedding(input_text=content)"
   ]
  },
  {
   "cell_type": "markdown",
   "metadata": {},
   "source": [
    "## Indexing"
   ]
  },
  {
   "cell_type": "code",
   "execution_count": 9,
   "metadata": {},
   "outputs": [
    {
     "data": {
      "text/plain": [
       "True"
      ]
     },
     "execution_count": 9,
     "metadata": {},
     "output_type": "execute_result"
    }
   ],
   "source": [
    "import os\n",
    "import random\n",
    "from azure.core.credentials import AzureKeyCredential\n",
    "from azure.search.documents import SearchClient\n",
    "from dotenv import load_dotenv\n",
    "\n",
    "# Load environment variables from .env file\n",
    "load_dotenv()"
   ]
  },
  {
   "cell_type": "code",
   "execution_count": 22,
   "metadata": {},
   "outputs": [],
   "source": [
    "# Set the service endpoint and API key from the environment\n",
    "# Create an SDK client\n",
    "endpoint = os.environ[\"AZURE_AI_SEARCH_SERVICE_ENDPOINT\"]\n",
    "search_client = SearchClient(\n",
    "    endpoint=endpoint,\n",
    "    index_name=\"query-dev-index\",\n",
    "    credential=AzureKeyCredential(os.environ[\"AZURE_SEARCH_ADMIN_KEY\"]),\n",
    ")"
   ]
  },
  {
   "cell_type": "code",
   "execution_count": 14,
   "metadata": {},
   "outputs": [],
   "source": [
    "tables_names = az_sql_client.get_table_names()\n",
    "schema = az_sql_client.process_schema(tables_names[0])"
   ]
  },
  {
   "cell_type": "code",
   "execution_count": 28,
   "metadata": {},
   "outputs": [],
   "source": [
    "chunked_content_docs = []"
   ]
  },
  {
   "cell_type": "code",
   "execution_count": 29,
   "metadata": {},
   "outputs": [
    {
     "name": "stderr",
     "output_type": "stream",
     "text": [
      "2024-02-07 01:31:54,059 - micro - MainProcess - INFO     Sending request to OpenAI with query: \n",
      "Please examine the schema of the table thoroughly. Provide an in-depth analysis that not only explains the design and structure of the table but also outlines its potential applications and the types of queries it can support.\n",
      "Also provide atleast 10 queries in natural lengauge that can be run on the table.\n",
      "Please take your time.\n",
      "\n",
      "Here is the schema of the table: {'detroit_tigers_baseball_stats': [{'column_number': 0, 'column_name': 'name', 'data_type': 'nvarchar'}, {'column_number': 1, 'column_name': 'position', 'data_type': 'nvarchar'}, {'column_number': 2, 'column_name': 'Games_Played', 'data_type': 'tinyint'}, {'column_number': 3, 'column_name': 'At_Bats', 'data_type': 'smallint'}, {'column_number': 4, 'column_name': 'Hits', 'data_type': 'tinyint'}, {'column_number': 5, 'column_name': 'Home_Runs', 'data_type': 'tinyint'}, {'column_number': 6, 'column_name': 'RBIs', 'data_type': 'tinyint'}, {'column_number': 7, 'column_name': 'Batting_Average', 'data_type': 'float'}]}\n",
      " (azure_openai.py:generate_chat_response:186)\n"
     ]
    },
    {
     "name": "stderr",
     "output_type": "stream",
     "text": [
      "2024-02-07 01:32:28,595 - micro - MainProcess - INFO     Received response from OpenAI: The provided schema is for a table named 'detroit_tigers_baseball_stats', which likely stores statistical data related to the players of the Detroit Tigers, a professional baseball team. The table has eight columns, each representing different characteristics or statistics related to a player.\n",
      "\n",
      "1. 'name' (nvarchar): This column is used to store the name of the player. As the data type is 'nvarchar', it can contain both text and numbers, allowing for diverse names.\n",
      "\n",
      "2. 'position' (nvarchar): This field stores the position of a player on the field. The 'nvarchar' data type indicates that this field can also contain alphanumeric characters, allowing for various positions like 'SS' (Short Stop), 'CF' (Center Field), etc.\n",
      "\n",
      "3. 'Games_Played' (tinyint): This field records the number of games a player has played. The 'tinyint' data type indicates that this number is likely to be relatively small, generally less than 255.\n",
      "\n",
      "4. 'At_Bats' (smallint): This field represents the number of times a player was at bat. 'smallint' data type is used, which can store numbers up to 32767.\n",
      "\n",
      "5. 'Hits' (tinyint): This column records the number of hits a player has made. As the data type is 'tinyint', it's assumed that the number of hits is relatively small.\n",
      "\n",
      "6. 'Home_Runs' (tinyint): This column denotes the number of home runs made by a player. The 'tinyint' data type suggests that the number of home runs is expected to be small.\n",
      "\n",
      "7. 'RBIs' (tinyint): Stands for Runs Batted In, this field captures the number of times a player has batted in a run. The 'tinyint' data type suggests a smaller number.\n",
      "\n",
      "8. 'Batting_Average' (float): This column records the batting average of a player. The 'float' data type indicates that this is a fractional number often carried out to three decimal places.\n",
      "\n",
      "This table can be used for a range of applications, from analytical reporting on player performances, scouting for talent, deriving insights for training improvements, to providing data for sports journalism or fan engagement.\n",
      "\n",
      "Here are ten example queries that can be run on this table:\n",
      "\n",
      "1. \"What is the average number of games played by all players?\"\n",
      "2. \"Who has the highest batting average?\"\n",
      "3. \"Who has hit the most home runs?\"\n",
      "4. \"What are the names and positions of players who have played more than 100 games?\"\n",
      "5. \"Who are the top 5 players with the most hits?\"\n",
      "6. \"Which positions have the highest average RBIs?\"\n",
      "7. \"Who are the top 3 players with the most at bats?\"\n",
      "8. \"What is the total number of home runs made by all players?\"\n",
      "9. \"Which player has the lowest batting average?\"\n",
      "10. \"Who are the players with RBIs higher than 50?\" (azure_openai.py:generate_chat_response:199)\n",
      "2024-02-07 01:32:28,719 - micro - MainProcess - INFO     Sending request to OpenAI with query: \n",
      "Please examine the schema of the table thoroughly. Provide an in-depth analysis that not only explains the design and structure of the table but also outlines its potential applications and the types of queries it can support.\n",
      "Also provide atleast 10 queries in natural lengauge that can be run on the table.\n",
      "Please take your time.\n",
      "\n",
      "Here is the schema of the table: {'detroit_tigers_baseball_stats': [{'column_number': 0, 'column_name': 'name', 'data_type': 'nvarchar'}, {'column_number': 1, 'column_name': 'position', 'data_type': 'nvarchar'}, {'column_number': 2, 'column_name': 'Games_Played', 'data_type': 'tinyint'}, {'column_number': 3, 'column_name': 'At_Bats', 'data_type': 'smallint'}, {'column_number': 4, 'column_name': 'Hits', 'data_type': 'tinyint'}, {'column_number': 5, 'column_name': 'Home_Runs', 'data_type': 'tinyint'}, {'column_number': 6, 'column_name': 'RBIs', 'data_type': 'tinyint'}, {'column_number': 7, 'column_name': 'Batting_Average', 'data_type': 'float'}]}\n",
      " (azure_openai.py:generate_chat_response:186)\n",
      "2024-02-07 01:33:00,915 - micro - MainProcess - INFO     Received response from OpenAI: The provided schema is for a table named 'detroit_tigers_baseball_stats', which likely stores statistical data related to the players of the Detroit Tigers, a professional baseball team. The table contains eight columns, each representing a different aspect of a player's performance or role in the team.\n",
      "\n",
      "1. 'name': This field is of data type 'nvarchar', which means it stores non-Unicode character data. It's likely used to store the names of the players.\n",
      "\n",
      "2. 'position': This 'nvarchar' field probably represents the role or position a player holds within the team (such as pitcher, catcher, infielder, etc).\n",
      "\n",
      "3. 'Games_Played': This 'tinyint' field likely indicates the number of games a player has participated in. \n",
      "\n",
      "4. 'At_Bats': The 'At_Bats' column, a 'smallint' data type, likely represents the number of times a player has been at bat.\n",
      "\n",
      "5. 'Hits': This 'tinyint' field is likely used to record the number of successful hits a player has made.\n",
      "\n",
      "6. 'Home_Runs': This is another 'tinyint' field, which presumably records the number of home runs a player has scored.\n",
      "\n",
      "7. 'RBIs': Standing for 'Runs Batted In', this 'tinyint' field likely represents the number of times a player has batted in a run.\n",
      "\n",
      "8. 'Batting_Average': This 'float' field likely stores a player's batting average, a statistic calculated as total hits divided by at bats.\n",
      "\n",
      "The table seems to be designed to support a variety of queries related to player performance in the Detroit Tigers team. Here are some example queries in natural language:\n",
      "\n",
      "1. Who has the highest batting average in the team?\n",
      "2. Which player hit the most home runs?\n",
      "3. Who played the most games?\n",
      "4. Which position has the highest average RBIs?\n",
      "5. Who has the fewest hits?\n",
      "6. Which player has the highest number of at bats?\n",
      "7. Who has the most RBIs?\n",
      "8. What is the average number of games played by players?\n",
      "9. List players with a batting average above a certain value.\n",
      "10. Which players have hit less than a certain number of home runs?\n",
      "\n",
      "Overall, this table can provide valuable insights into the performance of the Detroit Tigers' players, which can be used for team management, player training strategies, and game analytics. (azure_openai.py:generate_chat_response:199)\n"
     ]
    }
   ],
   "source": [
    "import random\n",
    "\n",
    "# Iterate over each table name\n",
    "for table in tables_names:\n",
    "    # Process the schema of the table\n",
    "    schema = az_sql_client.process_schema(table)\n",
    "\n",
    "    # Generate a chat response\n",
    "    content = az_client.generate_chat_response(\n",
    "        conversation_history=[],\n",
    "        query=query,\n",
    "        system_message_content=system_message,\n",
    "        max_tokens=1000,\n",
    "    )\n",
    "    # Generate a random document ID\n",
    "    doc_id = str(random.randint(1, 1000000))\n",
    "\n",
    "    # Generate an embedding for the content\n",
    "    embedding = az_client.generate_embedding(input_text=content)\n",
    "\n",
    "    # Create a JSON object with the table content, vector, document ID, and table name\n",
    "    json_data = {\n",
    "        \"table_content\": content,\n",
    "        \"table_vector\": embedding,\n",
    "        \"document_id\": doc_id,\n",
    "        \"table_name\": table,\n",
    "    }\n",
    "\n",
    "    # Append the JSON object to the list of documents\n",
    "    chunked_content_docs.append(json_data)"
   ]
  },
  {
   "cell_type": "code",
   "execution_count": 32,
   "metadata": {},
   "outputs": [
    {
     "name": "stdout",
     "output_type": "stream",
     "text": [
      "Uploading batch of 2 documents...\n",
      "Upload of new document succeeded: True\n",
      "Upload of new document succeeded: True\n"
     ]
    }
   ],
   "source": [
    "print(f\"Uploading batch of {len(chunked_content_docs)} documents...\")\n",
    "result = search_client.upload_documents(documents=chunked_content_docs)\n",
    "for res in result:\n",
    "    print(\"Upload of new document succeeded: {}\".format(res.succeeded))"
   ]
  }
 ],
 "metadata": {
  "kernelspec": {
   "display_name": "chat-with-your-database",
   "language": "python",
   "name": "python3"
  },
  "language_info": {
   "codemirror_mode": {
    "name": "ipython",
    "version": 3
   },
   "file_extension": ".py",
   "mimetype": "text/x-python",
   "name": "python",
   "nbconvert_exporter": "python",
   "pygments_lexer": "ipython3",
   "version": "3.9.18"
  }
 },
 "nbformat": 4,
 "nbformat_minor": 2
}
