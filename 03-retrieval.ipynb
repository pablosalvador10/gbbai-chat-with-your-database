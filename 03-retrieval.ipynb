{
 "cells": [
  {
   "cell_type": "markdown",
   "metadata": {},
   "source": [
    "## 📚 Prerequisites\n",
    "\n",
    "Before executing this notebook, make sure you have properly set up your Azure Services, created your Conda environment, and configured your environment variables as per the instructions provided in the [README.md](README.md) file.\n",
    "\n",
    ">%pip install azure-search-documents==11.4.0b10\n",
    "\n",
    "## 📋 Table of Contents\n",
    "\n",
    "Explore different retrieval methods in Azure AI Search:\n",
    "\n",
    "1. [**Understanding Types of Search**](#define-field-types): This section provides a comprehensive overview of the different types of search methods available in Azure AI Search.\n",
    "2. [**Keyword Search**](#keyword-search): Use direct query term matching with document content.\n",
    "3. [**Vector Search**](#vector-search): Employ embeddings for semantic content understanding and relevance ranking.\n",
    "4. [**Hybrid Search**](#hybrid-search): Combine keyword and vector search for comprehensive results.\n",
    "5. [**Reranking Search**](#reranking-search): Reorder initial search results for improved top result relevance.\n",
    "\n",
    "Additional resources:\n",
    "- [Azure AI Search Documentation](https://learn.microsoft.com/en-us/azure/search/)"
   ]
  },
  {
   "cell_type": "markdown",
   "metadata": {},
   "source": [
    "### 🧭 Understanding Types of Search  \n",
    "\n",
    "+ **Keyword Search**: Traditional search method relying on direct term matching. Efficient for exact matches but struggles with synonyms and context. [Learn More](https://learn.microsoft.com/en-us/azure/search/search-lucene-query-architecture)\n",
    "\n",
    "- **Vector Search**: Converts text into high-dimensional vectors to understand semantic meaning. Finds relevant documents even without exact keyword matches. Effectiveness depends on quality of training data. [Learn More](https://learn.microsoft.com/en-us/azure/search/vector-search-overview)\n",
    "\n",
    "+ **Hybrid Search**: Combines Keyword and Vector Search for comprehensive, contextually relevant results. Effective for complex queries requiring nuanced understanding. [Learn More](https://learn.microsoft.com/en-us/azure/search/vector-search-ranking#hybrid-search)\n",
    "\n",
    "- **Reranking Search**: Fine-tunes initial search results using advanced algorithms for relevance. Useful when initial retrieval returns relevant but not optimally ordered results. [Learn More](https://learn.microsoft.com/en-us/azure/search/semantic-search-overview)\n",
    "\n",
    "### 🚧 Limitations\n",
    "\n",
    "##### Keyword Search\n",
    "- **Synonym Challenges**: Struggles with recognizing synonyms or different expressions of the same concept.\n",
    "- **Context Understanding**: May not fully capture the broader context or the query's intent, especially in complex queries.\n",
    "##### Embedding-Based Search\n",
    "- **Keyword Precision**: May miss documents that contain exact terms if those terms don't semantically align with the query or document's overall content.\n",
    "- **Contextual Misinterpretations**: May overgeneralize or incorrectly interpret context, missing specific nuances.\n",
    "- **Training Data Dependency**: Performance heavily relies on the diversity and depth of the training data.\n",
    "### 💡 Recommendations\n",
    "\n",
    "To achieve higher relevance out of the box: \n",
    "\n",
    "1. **Hybrid Search**: Combines keyword and vector search methods to ensure comprehensive document retrieval across a range of queries, from highly specific to semantically complex.\n",
    "\n",
    "2. **Re-Ranking and L2 in AI Search**: Enhances initial search results by applying sophisticated ranking algorithms, improving relevance and accuracy, especially for nuanced queries."
   ]
  },
  {
   "cell_type": "code",
   "execution_count": 2,
   "metadata": {},
   "outputs": [],
   "source": [
    "# %pip install azure-search-documents==11.4.0b10"
   ]
  },
  {
   "cell_type": "code",
   "execution_count": 1,
   "metadata": {},
   "outputs": [
    {
     "name": "stdout",
     "output_type": "stream",
     "text": [
      "Directory changed to C:\\Users\\pablosal\\Desktop\\gbbai-chat-with-your-database\n"
     ]
    }
   ],
   "source": [
    "import os\n",
    "\n",
    "# Define the target directory (change yours)\n",
    "target_directory = r\"C:\\Users\\pablosal\\Desktop\\gbbai-chat-with-your-database\"\n",
    "\n",
    "# Check if the directory exists\n",
    "if os.path.exists(target_directory):\n",
    "    # Change the current working directory\n",
    "    os.chdir(target_directory)\n",
    "    print(f\"Directory changed to {os.getcwd()}\")\n",
    "else:\n",
    "    print(f\"Directory {target_directory} does not exist.\")"
   ]
  },
  {
   "cell_type": "code",
   "execution_count": 2,
   "metadata": {},
   "outputs": [],
   "source": [
    "import os\n",
    "from dotenv import load_dotenv\n",
    "from azure.core.credentials import AzureKeyCredential\n",
    "from azure.search.documents import SearchClient\n",
    "from azure.search.documents.models import RawVectorQuery\n",
    "\n",
    "from src.aoai.azure_openai import AzureOpenAIManager"
   ]
  },
  {
   "cell_type": "code",
   "execution_count": 3,
   "metadata": {},
   "outputs": [],
   "source": [
    "# Load environment variables from .env file\n",
    "load_dotenv()\n",
    "\n",
    "# Set up Azure Cognitive Search credentials\n",
    "service_endpoint = os.getenv(\"AZURE_AI_SEARCH_SERVICE_ENDPOINT\")\n",
    "key = os.getenv(\"AZURE_SEARCH_ADMIN_KEY\")\n",
    "credential = AzureKeyCredential(key)\n",
    "\n",
    "# Define the name of the Azure Search index\n",
    "# This is the index where your data is stored in Azure Search\n",
    "index_name = \"query-dev-index\"\n",
    "\n",
    "# Set up the Azure Search client with the specified index\n",
    "# This prepares the client to interact with the Azure Search service\n",
    "search_client = SearchClient(service_endpoint, index_name, credential=credential)"
   ]
  },
  {
   "cell_type": "code",
   "execution_count": 4,
   "metadata": {},
   "outputs": [],
   "source": [
    "embedding_aoai_deployment_model = \"foundational-ada\"\n",
    "aoai_client = AzureOpenAIManager()"
   ]
  },
  {
   "cell_type": "code",
   "execution_count": 5,
   "metadata": {},
   "outputs": [],
   "source": [
    "search_query = \"Identify players who played more than 100 games, have an OPS (On-base Plus Slugging) higher than .900, and have less than 10 errors in a season.\"\n",
    "search_vector = aoai_client.generate_embedding(input_text=search_query)"
   ]
  },
  {
   "cell_type": "markdown",
   "metadata": {},
   "source": [
    "## Keyword Search \n",
    "\n",
    "**Full-text search**: This method uses the `@search.score` parameter and the BM25 algorithm for scoring. The BM25 algorithm is a bag-of-words retrieval function that ranks a set of documents based on the query terms appearing in each document, regardless of their proximity within the document. There is no upper limit for the score in this method.\n",
    "\n",
    "```json\n",
    "\"value\": [\n",
    " {\n",
    "    \"@search.score\": 5.1958685,\n",
    "    \"@search.features\": {\n",
    "        \"description\": {\n",
    "            \"uniqueTokenMatches\": 1.0,\n",
    "            \"similarityScore\": 0.29541412,\n",
    "            \"termFrequency\" : 2\n",
    "        },\n",
    "        \"title\": {\n",
    "            \"uniqueTokenMatches\": 3.0,\n",
    "            \"similarityScore\": 1.75451557,\n",
    "            \"termFrequency\" : 6\n",
    "        }\n",
    "    }\n",
    " }\n",
    "]\n",
    " ```\n",
    "\n",
    "- `uniqueTokenMatches`: This parameter indicates the number of unique query terms found in the document field. A higher value means more unique query terms were found, suggesting a stronger match.\n",
    "\n",
    "- `similarityScore`: This parameter represents the semantic similarity between the content of the document field and the query terms. A higher `similarityScore` means the document content is more semantically similar to the query, indicating a more relevant match.\n",
    "\n",
    "- `termFrequency`: This parameter shows how often the query terms appear within the document field. A higher `termFrequency` means the query terms appear more often, suggesting a stronger match.\n",
    "\n",
    "These parameters contribute to the overall `@search.score`. The `@search.score` is a cumulative measure of a document's relevance to the search query. A higher `@search.score` indicates a stronger match between the document and the search query.\n",
    "\n",
    "When interpreting search results, documents with higher scores are generally considered more relevant to the query than those with lower scores."
   ]
  },
  {
   "cell_type": "code",
   "execution_count": 7,
   "metadata": {},
   "outputs": [
    {
     "name": "stdout",
     "output_type": "stream",
     "text": [
      "score: 7.3274617. The provided schema is for a table named 'detroit_tigers_baseball_stats', which likely stores statistical data related to the players of the Detroit Tigers, a professional baseball team. The table has eight columns, each representing different characteristics or statistics related to a player.  1. 'name' (nvarchar): This column is used to store the name of the player. As the data type is 'nvarchar', it can contain both text and numbers, allowing for diverse names.  2. 'position' (nvarchar): This field stores the position of a player on the field. The 'nvarchar' data type indicates that this field can also contain alphanumeric characters, allowing for various positions like 'SS' (Short Stop), 'CF' (Center Field), etc.  3. 'Games_Played' (tinyint): This field records the number of games a player has played. The 'tinyint' data type indicates that this number is likely to be relatively small, generally less than 255.  4. 'At_Bats' (smallint): This field represents the number of times a pla\n",
      "score: 4.960284. The provided schema is for a table named 'detroit_tigers_baseball_stats', which likely stores statistical data related to the players of the Detroit Tigers, a professional baseball team. The table contains eight columns, each representing a different aspect of a player's performance or role in the team.  1. 'name': This field is of data type 'nvarchar', which means it stores non-Unicode character data. It's likely used to store the names of the players.  2. 'position': This 'nvarchar' field probably represents the role or position a player holds within the team (such as pitcher, catcher, infielder, etc).  3. 'Games_Played': This 'tinyint' field likely indicates the number of games a player has participated in.   4. 'At_Bats': The 'At_Bats' column, a 'smallint' data type, likely represents the number of times a player has been at bat.  5. 'Hits': This 'tinyint' field is likely used to record the number of successful hits a player has made.  6. 'Home_Runs': This is another 'tinyint' fiel\n"
     ]
    }
   ],
   "source": [
    "# keyword search\n",
    "r = search_client.search(search_query, top=5)\n",
    "for doc in r:\n",
    "    if \"players\" in doc[\"table_content\"]:\n",
    "        content = doc[\"table_content\"].replace(\"\\n\", \" \")[:1000]\n",
    "        print(f\"score: {doc['@search.score']}. {content}\")"
   ]
  },
  {
   "cell_type": "markdown",
   "metadata": {},
   "source": [
    "## Vector Search \n",
    "\n",
    "This method also uses the `@search.score` parameter but uses the HNSW (Hierarchical Navigable Small World) algorithm for scoring. The HNSW algorithm is an efficient method for nearest neighbor search in high dimensional spaces. The scoring range is 0.333 - 1.00 for Cosine similarity, and 0 to 1 for Euclidean and DotProduct similarities."
   ]
  },
  {
   "cell_type": "code",
   "execution_count": 8,
   "metadata": {},
   "outputs": [
    {
     "name": "stdout",
     "output_type": "stream",
     "text": [
      "score: 0.82221097. The provided schema is for a table named 'detroit_tigers_baseball_stats', which likely stores statistical data related to the players of the Detroit Tigers, a professional baseball team. The table contains eight columns, each representing a different aspect of a player's performance or role in the team.  1. 'name': This field is of data type 'nvarchar', which means it stores non-Unicode character data. It's likely used to store the names of the players.  2. 'position': This 'nvarchar' field probably represents the role or position a player holds within the team (such as pitcher, catcher, infielder, etc).  3. 'Games_Played': This 'tinyint' field likely indicates the number of games a player has participated in.   4. 'At_Bats': The 'At_Bats' column, a 'smallint' data type, likely represents the number of times a player has been at bat.  5. 'Hits': This 'tinyint' field is likely used to record the number of successful hits a player has made.  6. 'Home_Runs': This is another 'tinyint' fiel\n",
      "score: 0.816028. The provided schema is for a table named 'detroit_tigers_baseball_stats', which likely stores statistical data related to the players of the Detroit Tigers, a professional baseball team. The table has eight columns, each representing different characteristics or statistics related to a player.  1. 'name' (nvarchar): This column is used to store the name of the player. As the data type is 'nvarchar', it can contain both text and numbers, allowing for diverse names.  2. 'position' (nvarchar): This field stores the position of a player on the field. The 'nvarchar' data type indicates that this field can also contain alphanumeric characters, allowing for various positions like 'SS' (Short Stop), 'CF' (Center Field), etc.  3. 'Games_Played' (tinyint): This field records the number of games a player has played. The 'tinyint' data type indicates that this number is likely to be relatively small, generally less than 255.  4. 'At_Bats' (smallint): This field represents the number of times a pla\n"
     ]
    }
   ],
   "source": [
    "# Pure vector Search\n",
    "r = search_client.search(\n",
    "    None,\n",
    "    top=5,\n",
    "    vector_queries=[RawVectorQuery(vector=search_vector, k=50, fields=\"table_vector\")],\n",
    ")\n",
    "for doc in r:\n",
    "    content = doc[\"table_content\"].replace(\"\\n\", \" \")[:1000]\n",
    "    print(f\"score: {doc['@search.score']}. {content}\")"
   ]
  },
  {
   "cell_type": "markdown",
   "metadata": {},
   "source": [
    "## Hybrid search\n",
    "\n",
    "This method uses the `@search.score` parameter and the RRF (Reciprocal Rank Fusion) algorithm for scoring. The RRF algorithm is a method for data fusion that combines the results of multiple queries. The upper limit of the score is bounded by the number of queries being fused, with each query contributing a maximum of approximately 1 to the RRF score. For example, merging three queries would produce higher RRF scores than if only two search results are merged."
   ]
  },
  {
   "cell_type": "code",
   "execution_count": 9,
   "metadata": {},
   "outputs": [
    {
     "name": "stdout",
     "output_type": "stream",
     "text": [
      "score: 0.03306011110544205, reranker: None. The provided schema is for a table named 'detroit_tigers_baseball_stats', which likely stores statistical data related to the players of the Detroit Tigers, a professional baseball team. The table has eight columns, each representing different characteristics or statistics related to a player.  1. 'name' (nvarchar): This column is used to store the name of the player. As the data type is 'nvarchar', it can contain both text and numbers, allowing for diverse names.  2. 'position' (nvarchar): This field stores the position of a player on the field. The 'nvarchar' data type indicates that this field can also contain alphanumeric characters, allowing for various positions like 'SS' (Short Stop), 'CF' (Center Field), etc.  3. 'Games_Played' (tinyint): This field records the number of games a player has played. The 'tinyint' data type indicates that this number is likely to be relatively small, generally less than 255.  4. 'At_Bats' (smallint): This field represents the number of times a pla\n",
      "score: 0.03306011110544205, reranker: None. The provided schema is for a table named 'detroit_tigers_baseball_stats', which likely stores statistical data related to the players of the Detroit Tigers, a professional baseball team. The table contains eight columns, each representing a different aspect of a player's performance or role in the team.  1. 'name': This field is of data type 'nvarchar', which means it stores non-Unicode character data. It's likely used to store the names of the players.  2. 'position': This 'nvarchar' field probably represents the role or position a player holds within the team (such as pitcher, catcher, infielder, etc).  3. 'Games_Played': This 'tinyint' field likely indicates the number of games a player has participated in.   4. 'At_Bats': The 'At_Bats' column, a 'smallint' data type, likely represents the number of times a player has been at bat.  5. 'Hits': This 'tinyint' field is likely used to record the number of successful hits a player has made.  6. 'Home_Runs': This is another 'tinyint' fiel\n"
     ]
    }
   ],
   "source": [
    "r = search_client.search(\n",
    "    search_query,\n",
    "    top=5,\n",
    "    vector_queries=[RawVectorQuery(vector=search_vector, k=50, fields=\"table_vector\")],\n",
    ")\n",
    "for doc in r:\n",
    "    content = doc[\"table_content\"].replace(\"\\n\", \" \")[:1000]\n",
    "    print(\n",
    "        f\"score: {doc['@search.score']}, reranker: {doc['@search.reranker_score']}. {content}\"\n",
    "    )"
   ]
  },
  {
   "cell_type": "markdown",
   "metadata": {},
   "source": [
    "#### Enable Exhaustive `ExhaustiveKnn`"
   ]
  },
  {
   "cell_type": "code",
   "execution_count": 10,
   "metadata": {},
   "outputs": [
    {
     "name": "stdout",
     "output_type": "stream",
     "text": [
      "score: 0.03306011110544205, reranker: None. The provided schema is for a table named 'detroit_tigers_baseball_stats', which likely stores statistical data related to the players of the Detroit Tigers, a professional baseball team. The table has eight columns, each representing different characteristics or statistics related to a player.  1. 'name' (nvarchar): This column is used to store the name of the player. As the data type is 'nvarchar', it can contain both text and numbers, allowing for diverse names.  2. 'position' (nvarchar): This field stores the position of a player on the field. The 'nvarchar' data type indicates that this field can also contain alphanumeric characters, allowing for various positions like 'SS' (Short Stop), 'CF' (Center Field), etc.  3. 'Games_Played' (tinyint): This field records the number of games a player has played. The 'tinyint' data type indicates that this number is likely to be relatively small, generally less than 255.  4. 'At_Bats' (smallint): This field represents the number of times a pla\n",
      "score: 0.03306011110544205, reranker: None. The provided schema is for a table named 'detroit_tigers_baseball_stats', which likely stores statistical data related to the players of the Detroit Tigers, a professional baseball team. The table contains eight columns, each representing a different aspect of a player's performance or role in the team.  1. 'name': This field is of data type 'nvarchar', which means it stores non-Unicode character data. It's likely used to store the names of the players.  2. 'position': This 'nvarchar' field probably represents the role or position a player holds within the team (such as pitcher, catcher, infielder, etc).  3. 'Games_Played': This 'tinyint' field likely indicates the number of games a player has participated in.   4. 'At_Bats': The 'At_Bats' column, a 'smallint' data type, likely represents the number of times a player has been at bat.  5. 'Hits': This 'tinyint' field is likely used to record the number of successful hits a player has made.  6. 'Home_Runs': This is another 'tinyint' fiel\n"
     ]
    }
   ],
   "source": [
    "r = search_client.search(\n",
    "    search_query,\n",
    "    top=5,\n",
    "    vector_queries=[\n",
    "        RawVectorQuery(\n",
    "            vector=search_vector, k=50, fields=\"table_vector\", exhaustive=True\n",
    "        )\n",
    "    ],\n",
    ")\n",
    "for doc in r:\n",
    "    content = doc[\"table_content\"].replace(\"\\n\", \" \")[:1000]\n",
    "    print(\n",
    "        f\"score: {doc['@search.score']}, reranker: {doc['@search.reranker_score']}. {content}\"\n",
    "    )"
   ]
  },
  {
   "cell_type": "markdown",
   "metadata": {},
   "source": [
    "## Semantic ranking\n",
    "\n",
    "This method uses the `@search.rerankerScore` parameter and a semantic ranking algorithm for scoring. Semantic ranking is a method that uses machine learning models to understand the semantic content of the queries and documents, and ranks the documents based on their relevance to the query. The scoring range is 0.00 - 4.00 in this method.\n",
    "\n",
    "Remember, a higher score indicates a higher relevance of the document to the query."
   ]
  },
  {
   "cell_type": "code",
   "execution_count": 28,
   "metadata": {},
   "outputs": [
    {
     "name": "stdout",
     "output_type": "stream",
     "text": [
      "Table Name: detroit_tigers_baseball_stats\n",
      "Score: 0.03306011110544205\n",
      "Reranker Score: 2.504136085510254\n",
      "Content: The provided schema is for a table named 'detroit_tigers_baseball_stats', which likely stores statistical data related to the players of the Detroit Tigers, a professional baseball team. The table has eight columns, each representing different characteristics or statistics related to a player.  1. 'name' (nvarchar): This column is used to store the name of the player. As the data type is 'nvarchar', it can contain both text and numbers, allowing for diverse names.  2. 'position' (nvarchar): This field stores the position of a player on the field. The 'nvarchar' data type indicates that this field can also contain alphanumeric characters, allowing for various positions like 'SS' (Short Stop), 'CF' (Center Field), etc.  3. 'Games_Played' (tinyint): This field records the number of games a player has played. The 'tinyint' data type indicates that this number is likely to be relatively small, generally less than 255.  4. 'At_Bats' (smallint): This field represents the number of times a pla\n",
      "--------------------------------------------------\n",
      "Table Name: expanded_detroit_tigers_baseball_stats\n",
      "Score: 0.03306011110544205\n",
      "Reranker Score: 1.7274816036224365\n",
      "Content: The provided schema is for a table named 'detroit_tigers_baseball_stats', which likely stores statistical data related to the players of the Detroit Tigers, a professional baseball team. The table contains eight columns, each representing a different aspect of a player's performance or role in the team.  1. 'name': This field is of data type 'nvarchar', which means it stores non-Unicode character data. It's likely used to store the names of the players.  2. 'position': This 'nvarchar' field probably represents the role or position a player holds within the team (such as pitcher, catcher, infielder, etc).  3. 'Games_Played': This 'tinyint' field likely indicates the number of games a player has participated in.   4. 'At_Bats': The 'At_Bats' column, a 'smallint' data type, likely represents the number of times a player has been at bat.  5. 'Hits': This 'tinyint' field is likely used to record the number of successful hits a player has made.  6. 'Home_Runs': This is another 'tinyint' fiel\n",
      "--------------------------------------------------\n"
     ]
    }
   ],
   "source": [
    "# hybrid retrieval + rerank\n",
    "r = search_client.search(\n",
    "    search_query,\n",
    "    top=5,\n",
    "    vector_queries=[RawVectorQuery(vector=search_vector, k=50, fields=\"table_vector\")],\n",
    "    query_type=\"semantic\",\n",
    "    semantic_configuration_name=\"query-index-semantic-config\",\n",
    "    query_language=\"en-us\",\n",
    ")\n",
    "\n",
    "for doc in r:\n",
    "    content = doc[\"table_content\"].replace(\"\\n\", \" \")[:1000]\n",
    "    table_name = doc[\"table_name\"]\n",
    "    score = doc[\"@search.score\"]\n",
    "    reranker_score = doc[\"@search.reranker_score\"]\n",
    "\n",
    "    print(f\"Table Name: {table_name}\")\n",
    "    print(f\"Score: {score}\")\n",
    "    print(f\"Reranker Score: {reranker_score}\")\n",
    "    print(f\"Content: {content}\")\n",
    "    print(\"-\" * 50)  # prints a separator for readability"
   ]
  }
 ],
 "metadata": {
  "kernelspec": {
   "display_name": "build-your-own-copilot",
   "language": "python",
   "name": "python3"
  },
  "language_info": {
   "codemirror_mode": {
    "name": "ipython",
    "version": 3
   },
   "file_extension": ".py",
   "mimetype": "text/x-python",
   "name": "python",
   "nbconvert_exporter": "python",
   "pygments_lexer": "ipython3",
   "version": "3.9.18"
  }
 },
 "nbformat": 4,
 "nbformat_minor": 2
}
